{
 "cells": [
  {
   "cell_type": "code",
   "execution_count": 2,
   "id": "a787b642",
   "metadata": {},
   "outputs": [],
   "source": [
    "import pandas as pd"
   ]
  },
  {
   "cell_type": "code",
   "execution_count": 3,
   "id": "a80af1b8",
   "metadata": {},
   "outputs": [],
   "source": [
    "students = pd.read_csv('/Users/muneebsamad/Desktop/Material/pandas-challenge/PyCitySchools/students_complete.csv')\n",
    "schools = pd.read_csv ('/Users/muneebsamad/Desktop/Material/pandas-challenge/PyCitySchools/schools_complete.csv')"
   ]
  },
  {
   "cell_type": "code",
   "execution_count": 4,
   "id": "372e8af9",
   "metadata": {},
   "outputs": [],
   "source": [
    "complete_df = pd.merge(students, schools, how='left', on=['school_name', 'school_name'])"
   ]
  },
  {
   "cell_type": "code",
   "execution_count": 5,
   "id": "4f638293",
   "metadata": {},
   "outputs": [],
   "source": [
    "unique_schools = schools['type'].value_counts()"
   ]
  },
  {
   "cell_type": "code",
   "execution_count": 6,
   "id": "14b8dcf8",
   "metadata": {},
   "outputs": [
    {
     "data": {
      "text/plain": [
       "15"
      ]
     },
     "execution_count": 6,
     "metadata": {},
     "output_type": "execute_result"
    }
   ],
   "source": [
    "total_sum = unique_schools.sum()\n",
    "total_sum"
   ]
  },
  {
   "cell_type": "code",
   "execution_count": 7,
   "id": "02fa6243",
   "metadata": {},
   "outputs": [
    {
     "data": {
      "text/plain": [
       "39170"
      ]
     },
     "execution_count": 7,
     "metadata": {},
     "output_type": "execute_result"
    }
   ],
   "source": [
    "total_students = students['student_name'].value_counts()\n",
    "total_students.sum()"
   ]
  },
  {
   "cell_type": "code",
   "execution_count": 8,
   "id": "1373ae57",
   "metadata": {},
   "outputs": [
    {
     "data": {
      "text/plain": [
       "24649428"
      ]
     },
     "execution_count": 8,
     "metadata": {},
     "output_type": "execute_result"
    }
   ],
   "source": [
    "total_budget = schools['budget']\n",
    "total_budget.sum()"
   ]
  },
  {
   "cell_type": "code",
   "execution_count": 9,
   "id": "234a308d",
   "metadata": {},
   "outputs": [
    {
     "data": {
      "text/plain": [
       "78.98537145774827"
      ]
     },
     "execution_count": 9,
     "metadata": {},
     "output_type": "execute_result"
    }
   ],
   "source": [
    "avg_math_score = students['math_score'].mean()\n",
    "avg_math_score"
   ]
  },
  {
   "cell_type": "code",
   "execution_count": 10,
   "id": "463e81db",
   "metadata": {},
   "outputs": [
    {
     "data": {
      "text/plain": [
       "81.87784018381414"
      ]
     },
     "execution_count": 10,
     "metadata": {},
     "output_type": "execute_result"
    }
   ],
   "source": [
    "avg_reading_score = students['reading_score'].mean()\n",
    "avg_reading_score"
   ]
  },
  {
   "cell_type": "code",
   "execution_count": 11,
   "id": "9b5fa9db",
   "metadata": {},
   "outputs": [
    {
     "data": {
      "text/plain": [
       "74.9808526933878"
      ]
     },
     "execution_count": 11,
     "metadata": {},
     "output_type": "execute_result"
    }
   ],
   "source": [
    "passing_math_count = complete_df[(complete_df['math_score']>=70)].count()['student_name']\n",
    "passing_math_percentage = passing_math_count /float(total_students.sum()) * 100\n",
    "passing_math_percentage"
   ]
  },
  {
   "cell_type": "code",
   "execution_count": 12,
   "id": "893c4a0d",
   "metadata": {},
   "outputs": [
    {
     "data": {
      "text/plain": [
       "85.80546336482001"
      ]
     },
     "execution_count": 12,
     "metadata": {},
     "output_type": "execute_result"
    }
   ],
   "source": [
    "passing_reading_count = complete_df[(complete_df['reading_score']>=70)].count()['student_name']\n",
    "passing_reading_percentage = passing_reading_count / float(total_students.sum()) * 100\n",
    "passing_reading_percentage"
   ]
  },
  {
   "cell_type": "code",
   "execution_count": 13,
   "id": "acbcd5eb",
   "metadata": {},
   "outputs": [
    {
     "data": {
      "text/plain": [
       "65.17232575950983"
      ]
     },
     "execution_count": 13,
     "metadata": {},
     "output_type": "execute_result"
    }
   ],
   "source": [
    "passing_math_reading_count = complete_df [(complete_df['math_score']>= 70) & (complete_df['reading_score']>=70)].count()['student_name']\n",
    "overall_passing_rate = passing_math_reading_count/float(total_students.sum()) * 100\n",
    "overall_passing_rate"
   ]
  },
  {
   "cell_type": "code",
   "execution_count": 14,
   "id": "b7fe5fe1",
   "metadata": {},
   "outputs": [],
   "source": [
    "column_sum =['budget']\n",
    "schools_summary = {'Total Schools': total_sum,\n",
    "                   'Total Students': total_students.sum(),\n",
    "                   'Total Budget' :schools['budget'].sum(),\n",
    "                   'Average Math Score' : avg_math_score,\n",
    "                   'Average Reading Score': avg_reading_score,\n",
    "                   '% Passing Match': passing_math_percentage,\n",
    "                   '% Passing Reading' : passing_reading_percentage,\n",
    "                   '% Overall Passing' : overall_passing_rate\n",
    "                  }\n",
    "district_summary = pd.DataFrame(schools_summary, index=[0])\n",
    "schools_summary\n",
    "#formatting total students and budget to add commas\n",
    "district_summary['Total Budget'] = district_summary['Total Budget'].map('{:,.2f}'.format)\n",
    "district_summary['Total Students'] = district_summary['Total Students'].map('{:,}'.format)"
   ]
  },
  {
   "cell_type": "code",
   "execution_count": 15,
   "id": "a4699cca",
   "metadata": {},
   "outputs": [
    {
     "data": {
      "text/html": [
       "<div>\n",
       "<style scoped>\n",
       "    .dataframe tbody tr th:only-of-type {\n",
       "        vertical-align: middle;\n",
       "    }\n",
       "\n",
       "    .dataframe tbody tr th {\n",
       "        vertical-align: top;\n",
       "    }\n",
       "\n",
       "    .dataframe thead th {\n",
       "        text-align: right;\n",
       "    }\n",
       "</style>\n",
       "<table border=\"1\" class=\"dataframe\">\n",
       "  <thead>\n",
       "    <tr style=\"text-align: right;\">\n",
       "      <th></th>\n",
       "      <th>Total Schools</th>\n",
       "      <th>Total Students</th>\n",
       "      <th>Total Budget</th>\n",
       "      <th>Average Math Score</th>\n",
       "      <th>Average Reading Score</th>\n",
       "      <th>% Passing Match</th>\n",
       "      <th>% Passing Reading</th>\n",
       "      <th>% Overall Passing</th>\n",
       "    </tr>\n",
       "  </thead>\n",
       "  <tbody>\n",
       "    <tr>\n",
       "      <th>0</th>\n",
       "      <td>15</td>\n",
       "      <td>39,170</td>\n",
       "      <td>24,649,428.00</td>\n",
       "      <td>78.985371</td>\n",
       "      <td>81.87784</td>\n",
       "      <td>74.980853</td>\n",
       "      <td>85.805463</td>\n",
       "      <td>65.172326</td>\n",
       "    </tr>\n",
       "  </tbody>\n",
       "</table>\n",
       "</div>"
      ],
      "text/plain": [
       "   Total Schools Total Students   Total Budget  Average Math Score  \\\n",
       "0             15         39,170  24,649,428.00           78.985371   \n",
       "\n",
       "   Average Reading Score  % Passing Match  % Passing Reading  \\\n",
       "0               81.87784        74.980853          85.805463   \n",
       "\n",
       "   % Overall Passing  \n",
       "0          65.172326  "
      ]
     },
     "execution_count": 15,
     "metadata": {},
     "output_type": "execute_result"
    }
   ],
   "source": [
    "district_summary"
   ]
  },
  {
   "cell_type": "code",
   "execution_count": 16,
   "id": "858bd4e7",
   "metadata": {},
   "outputs": [],
   "source": [
    "#school Summary"
   ]
  },
  {
   "cell_type": "code",
   "execution_count": 17,
   "id": "8dd68d33",
   "metadata": {},
   "outputs": [],
   "source": [
    "school_types = schools.set_index(['school_name'])['type']"
   ]
  },
  {
   "cell_type": "code",
   "execution_count": 18,
   "id": "5fcca33c",
   "metadata": {},
   "outputs": [
    {
     "data": {
      "text/plain": [
       "2611.3333333333335"
      ]
     },
     "execution_count": 18,
     "metadata": {},
     "output_type": "execute_result"
    }
   ],
   "source": [
    "per_school_counts = total_students.sum()/total_sum\n",
    "per_school_counts"
   ]
  },
  {
   "cell_type": "code",
   "execution_count": 19,
   "id": "ba10b26b",
   "metadata": {},
   "outputs": [],
   "source": [
    "per_school_budget = schools['budget'].sum()/total_sum\n",
    "per_school_capita = schools['budget'].sum()/total_students.sum()"
   ]
  },
  {
   "cell_type": "code",
   "execution_count": 36,
   "id": "ad9205d3",
   "metadata": {},
   "outputs": [
    {
     "data": {
      "text/html": [
       "<div>\n",
       "<style scoped>\n",
       "    .dataframe tbody tr th:only-of-type {\n",
       "        vertical-align: middle;\n",
       "    }\n",
       "\n",
       "    .dataframe tbody tr th {\n",
       "        vertical-align: top;\n",
       "    }\n",
       "\n",
       "    .dataframe thead th {\n",
       "        text-align: right;\n",
       "    }\n",
       "</style>\n",
       "<table border=\"1\" class=\"dataframe\">\n",
       "  <thead>\n",
       "    <tr style=\"text-align: right;\">\n",
       "      <th></th>\n",
       "      <th>math_score</th>\n",
       "      <th>reading_score</th>\n",
       "    </tr>\n",
       "    <tr>\n",
       "      <th>school_name</th>\n",
       "      <th></th>\n",
       "      <th></th>\n",
       "    </tr>\n",
       "  </thead>\n",
       "  <tbody>\n",
       "    <tr>\n",
       "      <th>Bailey High School</th>\n",
       "      <td>77.048432</td>\n",
       "      <td>81.033963</td>\n",
       "    </tr>\n",
       "    <tr>\n",
       "      <th>Cabrera High School</th>\n",
       "      <td>83.061895</td>\n",
       "      <td>83.975780</td>\n",
       "    </tr>\n",
       "    <tr>\n",
       "      <th>Figueroa High School</th>\n",
       "      <td>76.711767</td>\n",
       "      <td>81.158020</td>\n",
       "    </tr>\n",
       "    <tr>\n",
       "      <th>Ford High School</th>\n",
       "      <td>77.102592</td>\n",
       "      <td>80.746258</td>\n",
       "    </tr>\n",
       "    <tr>\n",
       "      <th>Griffin High School</th>\n",
       "      <td>83.351499</td>\n",
       "      <td>83.816757</td>\n",
       "    </tr>\n",
       "    <tr>\n",
       "      <th>Hernandez High School</th>\n",
       "      <td>77.289752</td>\n",
       "      <td>80.934412</td>\n",
       "    </tr>\n",
       "    <tr>\n",
       "      <th>Holden High School</th>\n",
       "      <td>83.803279</td>\n",
       "      <td>83.814988</td>\n",
       "    </tr>\n",
       "    <tr>\n",
       "      <th>Huang High School</th>\n",
       "      <td>76.629414</td>\n",
       "      <td>81.182722</td>\n",
       "    </tr>\n",
       "    <tr>\n",
       "      <th>Johnson High School</th>\n",
       "      <td>77.072464</td>\n",
       "      <td>80.966394</td>\n",
       "    </tr>\n",
       "    <tr>\n",
       "      <th>Pena High School</th>\n",
       "      <td>83.839917</td>\n",
       "      <td>84.044699</td>\n",
       "    </tr>\n",
       "    <tr>\n",
       "      <th>Rodriguez High School</th>\n",
       "      <td>76.842711</td>\n",
       "      <td>80.744686</td>\n",
       "    </tr>\n",
       "    <tr>\n",
       "      <th>Shelton High School</th>\n",
       "      <td>83.359455</td>\n",
       "      <td>83.725724</td>\n",
       "    </tr>\n",
       "    <tr>\n",
       "      <th>Thomas High School</th>\n",
       "      <td>83.418349</td>\n",
       "      <td>83.848930</td>\n",
       "    </tr>\n",
       "    <tr>\n",
       "      <th>Wilson High School</th>\n",
       "      <td>83.274201</td>\n",
       "      <td>83.989488</td>\n",
       "    </tr>\n",
       "    <tr>\n",
       "      <th>Wright High School</th>\n",
       "      <td>83.682222</td>\n",
       "      <td>83.955000</td>\n",
       "    </tr>\n",
       "  </tbody>\n",
       "</table>\n",
       "</div>"
      ],
      "text/plain": [
       "                       math_score  reading_score\n",
       "school_name                                     \n",
       "Bailey High School      77.048432      81.033963\n",
       "Cabrera High School     83.061895      83.975780\n",
       "Figueroa High School    76.711767      81.158020\n",
       "Ford High School        77.102592      80.746258\n",
       "Griffin High School     83.351499      83.816757\n",
       "Hernandez High School   77.289752      80.934412\n",
       "Holden High School      83.803279      83.814988\n",
       "Huang High School       76.629414      81.182722\n",
       "Johnson High School     77.072464      80.966394\n",
       "Pena High School        83.839917      84.044699\n",
       "Rodriguez High School   76.842711      80.744686\n",
       "Shelton High School     83.359455      83.725724\n",
       "Thomas High School      83.418349      83.848930\n",
       "Wilson High School      83.274201      83.989488\n",
       "Wright High School      83.682222      83.955000"
      ]
     },
     "execution_count": 36,
     "metadata": {},
     "output_type": "execute_result"
    }
   ],
   "source": [
    "complete_df.groupby('school_name')[['math_score','reading_score']].mean()"
   ]
  },
  {
   "cell_type": "code",
   "execution_count": 21,
   "id": "7de30130",
   "metadata": {},
   "outputs": [],
   "source": [
    "students_passing_math = complete_df[complete_df['math_score'] >= 70]\n",
    "school_students_passing_math = students_passing_math.groupby('school_name')['Student ID'].count()"
   ]
  },
  {
   "cell_type": "code",
   "execution_count": 32,
   "id": "d79e8b4e",
   "metadata": {},
   "outputs": [],
   "source": [
    "students_passing_reading = complete_df[complete_df['reading_score'] >= 70]\n",
    "school_students_passing_reading = students_passing_reading.groupby('school_name')['Student ID'].count()"
   ]
  },
  {
   "cell_type": "code",
   "execution_count": 38,
   "id": "34360b43",
   "metadata": {},
   "outputs": [],
   "source": [
    "students_passing_math_and_reading = complete_df[(complete_df['reading_score'] >= 70)\n",
    "                                                & (complete_df['math_score']>= 70)]\n",
    "school_students_passing_math_and_reading = students_passing_math_and_reading.groupby(['school_name'])['Student ID'].count()"
   ]
  },
  {
   "cell_type": "code",
   "execution_count": 39,
   "id": "ae5e67b9",
   "metadata": {},
   "outputs": [],
   "source": [
    "per_school_passing_math = (school_students_passing_math / per_school_counts) * 100\n",
    "per_school_passing_reading = school_students_passing_reading / per_school_counts * 100\n",
    "overall_passing_rate = school_students_passing_math_and_reading / per_school_counts * 100"
   ]
  },
  {
   "cell_type": "code",
   "execution_count": 75,
   "id": "c81d0631",
   "metadata": {},
   "outputs": [],
   "source": [
    "per_school_summary = pd.DataFrame({\n",
    "            \n",
    "            'Total Students': complete_df['size'],\n",
    "            'Total School Budget': schools['budget'],\n",
    "            'Per Student Budget': schools['budget']/schools['size'],\n",
    "            'Average Math Score':complete_df['math_score'].mean(), \n",
    "            'Per School Passing Reading' : per_school_passing_reading,\n",
    "            'Overall Passing Rate' : overall_passing_rate})"
   ]
  },
  {
   "cell_type": "code",
   "execution_count": 76,
   "id": "05076110",
   "metadata": {},
   "outputs": [
    {
     "data": {
      "text/html": [
       "<div>\n",
       "<style scoped>\n",
       "    .dataframe tbody tr th:only-of-type {\n",
       "        vertical-align: middle;\n",
       "    }\n",
       "\n",
       "    .dataframe tbody tr th {\n",
       "        vertical-align: top;\n",
       "    }\n",
       "\n",
       "    .dataframe thead th {\n",
       "        text-align: right;\n",
       "    }\n",
       "</style>\n",
       "<table border=\"1\" class=\"dataframe\">\n",
       "  <thead>\n",
       "    <tr style=\"text-align: right;\">\n",
       "      <th></th>\n",
       "      <th>Total Students</th>\n",
       "      <th>Total School Budget</th>\n",
       "      <th>Per Student Budget</th>\n",
       "      <th>Average Math Score</th>\n",
       "      <th>Per School Passing Reading</th>\n",
       "      <th>Overall Passing Rate</th>\n",
       "    </tr>\n",
       "  </thead>\n",
       "  <tbody>\n",
       "    <tr>\n",
       "      <th>0</th>\n",
       "      <td>2917.0</td>\n",
       "      <td>1910635.0</td>\n",
       "      <td>655.0</td>\n",
       "      <td>78.985371</td>\n",
       "      <td>NaN</td>\n",
       "      <td>NaN</td>\n",
       "    </tr>\n",
       "    <tr>\n",
       "      <th>1</th>\n",
       "      <td>2917.0</td>\n",
       "      <td>1884411.0</td>\n",
       "      <td>639.0</td>\n",
       "      <td>78.985371</td>\n",
       "      <td>NaN</td>\n",
       "      <td>NaN</td>\n",
       "    </tr>\n",
       "    <tr>\n",
       "      <th>2</th>\n",
       "      <td>2917.0</td>\n",
       "      <td>1056600.0</td>\n",
       "      <td>600.0</td>\n",
       "      <td>78.985371</td>\n",
       "      <td>NaN</td>\n",
       "      <td>NaN</td>\n",
       "    </tr>\n",
       "    <tr>\n",
       "      <th>3</th>\n",
       "      <td>2917.0</td>\n",
       "      <td>3022020.0</td>\n",
       "      <td>652.0</td>\n",
       "      <td>78.985371</td>\n",
       "      <td>NaN</td>\n",
       "      <td>NaN</td>\n",
       "    </tr>\n",
       "    <tr>\n",
       "      <th>4</th>\n",
       "      <td>2917.0</td>\n",
       "      <td>917500.0</td>\n",
       "      <td>625.0</td>\n",
       "      <td>78.985371</td>\n",
       "      <td>NaN</td>\n",
       "      <td>NaN</td>\n",
       "    </tr>\n",
       "    <tr>\n",
       "      <th>...</th>\n",
       "      <td>...</td>\n",
       "      <td>...</td>\n",
       "      <td>...</td>\n",
       "      <td>...</td>\n",
       "      <td>...</td>\n",
       "      <td>...</td>\n",
       "    </tr>\n",
       "    <tr>\n",
       "      <th>Rodriguez High School</th>\n",
       "      <td>NaN</td>\n",
       "      <td>NaN</td>\n",
       "      <td>NaN</td>\n",
       "      <td>78.985371</td>\n",
       "      <td>122.849119</td>\n",
       "      <td>81.146285</td>\n",
       "    </tr>\n",
       "    <tr>\n",
       "      <th>Shelton High School</th>\n",
       "      <td>NaN</td>\n",
       "      <td>NaN</td>\n",
       "      <td>NaN</td>\n",
       "      <td>78.985371</td>\n",
       "      <td>64.641307</td>\n",
       "      <td>60.620373</td>\n",
       "    </tr>\n",
       "    <tr>\n",
       "      <th>Thomas High School</th>\n",
       "      <td>NaN</td>\n",
       "      <td>NaN</td>\n",
       "      <td>NaN</td>\n",
       "      <td>78.985371</td>\n",
       "      <td>60.926730</td>\n",
       "      <td>56.944090</td>\n",
       "    </tr>\n",
       "    <tr>\n",
       "      <th>Wilson High School</th>\n",
       "      <td>NaN</td>\n",
       "      <td>NaN</td>\n",
       "      <td>NaN</td>\n",
       "      <td>78.985371</td>\n",
       "      <td>84.401328</td>\n",
       "      <td>79.193260</td>\n",
       "    </tr>\n",
       "    <tr>\n",
       "      <th>Wright High School</th>\n",
       "      <td>NaN</td>\n",
       "      <td>NaN</td>\n",
       "      <td>NaN</td>\n",
       "      <td>78.985371</td>\n",
       "      <td>66.594332</td>\n",
       "      <td>62.267041</td>\n",
       "    </tr>\n",
       "  </tbody>\n",
       "</table>\n",
       "<p>39185 rows × 6 columns</p>\n",
       "</div>"
      ],
      "text/plain": [
       "                       Total Students  Total School Budget  \\\n",
       "0                              2917.0            1910635.0   \n",
       "1                              2917.0            1884411.0   \n",
       "2                              2917.0            1056600.0   \n",
       "3                              2917.0            3022020.0   \n",
       "4                              2917.0             917500.0   \n",
       "...                               ...                  ...   \n",
       "Rodriguez High School             NaN                  NaN   \n",
       "Shelton High School               NaN                  NaN   \n",
       "Thomas High School                NaN                  NaN   \n",
       "Wilson High School                NaN                  NaN   \n",
       "Wright High School                NaN                  NaN   \n",
       "\n",
       "                       Per Student Budget  Average Math Score  \\\n",
       "0                                   655.0           78.985371   \n",
       "1                                   639.0           78.985371   \n",
       "2                                   600.0           78.985371   \n",
       "3                                   652.0           78.985371   \n",
       "4                                   625.0           78.985371   \n",
       "...                                   ...                 ...   \n",
       "Rodriguez High School                 NaN           78.985371   \n",
       "Shelton High School                   NaN           78.985371   \n",
       "Thomas High School                    NaN           78.985371   \n",
       "Wilson High School                    NaN           78.985371   \n",
       "Wright High School                    NaN           78.985371   \n",
       "\n",
       "                       Per School Passing Reading  Overall Passing Rate  \n",
       "0                                             NaN                   NaN  \n",
       "1                                             NaN                   NaN  \n",
       "2                                             NaN                   NaN  \n",
       "3                                             NaN                   NaN  \n",
       "4                                             NaN                   NaN  \n",
       "...                                           ...                   ...  \n",
       "Rodriguez High School                  122.849119             81.146285  \n",
       "Shelton High School                     64.641307             60.620373  \n",
       "Thomas High School                      60.926730             56.944090  \n",
       "Wilson High School                      84.401328             79.193260  \n",
       "Wright High School                      66.594332             62.267041  \n",
       "\n",
       "[39185 rows x 6 columns]"
      ]
     },
     "execution_count": 76,
     "metadata": {},
     "output_type": "execute_result"
    }
   ],
   "source": [
    "per_school_summary"
   ]
  },
  {
   "cell_type": "code",
   "execution_count": null,
   "id": "58c1abdc",
   "metadata": {},
   "outputs": [],
   "source": []
  }
 ],
 "metadata": {
  "kernelspec": {
   "display_name": "Python 3 (ipykernel)",
   "language": "python",
   "name": "python3"
  },
  "language_info": {
   "codemirror_mode": {
    "name": "ipython",
    "version": 3
   },
   "file_extension": ".py",
   "mimetype": "text/x-python",
   "name": "python",
   "nbconvert_exporter": "python",
   "pygments_lexer": "ipython3",
   "version": "3.11.5"
  }
 },
 "nbformat": 4,
 "nbformat_minor": 5
}
